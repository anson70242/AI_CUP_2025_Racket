{
 "cells": [
  {
   "cell_type": "code",
   "execution_count": 7,
   "metadata": {},
   "outputs": [],
   "source": [
    "import pandas as pd\n",
    "import glob\n",
    "import os\n",
    "import matplotlib.pyplot as plt\n",
    "from sklearn.preprocessing import MinMaxScaler"
   ]
  },
  {
   "cell_type": "markdown",
   "metadata": {},
   "source": [
    "## Load Data"
   ]
  },
  {
   "cell_type": "code",
   "execution_count": 3,
   "metadata": {},
   "outputs": [
    {
     "data": {
      "text/html": [
       "<div>\n",
       "<style scoped>\n",
       "    .dataframe tbody tr th:only-of-type {\n",
       "        vertical-align: middle;\n",
       "    }\n",
       "\n",
       "    .dataframe tbody tr th {\n",
       "        vertical-align: top;\n",
       "    }\n",
       "\n",
       "    .dataframe thead th {\n",
       "        text-align: right;\n",
       "    }\n",
       "</style>\n",
       "<table border=\"1\" class=\"dataframe\">\n",
       "  <thead>\n",
       "    <tr style=\"text-align: right;\">\n",
       "      <th></th>\n",
       "      <th>Ax</th>\n",
       "      <th>Ay</th>\n",
       "      <th>Az</th>\n",
       "      <th>Gx</th>\n",
       "      <th>Gy</th>\n",
       "      <th>Gz</th>\n",
       "    </tr>\n",
       "  </thead>\n",
       "  <tbody>\n",
       "    <tr>\n",
       "      <th>0</th>\n",
       "      <td>0</td>\n",
       "      <td>0</td>\n",
       "      <td>0</td>\n",
       "      <td>0</td>\n",
       "      <td>0</td>\n",
       "      <td>0</td>\n",
       "    </tr>\n",
       "    <tr>\n",
       "      <th>1</th>\n",
       "      <td>1923</td>\n",
       "      <td>313</td>\n",
       "      <td>12</td>\n",
       "      <td>-906</td>\n",
       "      <td>321</td>\n",
       "      <td>-994</td>\n",
       "    </tr>\n",
       "    <tr>\n",
       "      <th>2</th>\n",
       "      <td>1929</td>\n",
       "      <td>297</td>\n",
       "      <td>-20</td>\n",
       "      <td>-833</td>\n",
       "      <td>260</td>\n",
       "      <td>-1005</td>\n",
       "    </tr>\n",
       "    <tr>\n",
       "      <th>3</th>\n",
       "      <td>1907</td>\n",
       "      <td>262</td>\n",
       "      <td>-26</td>\n",
       "      <td>-850</td>\n",
       "      <td>33</td>\n",
       "      <td>-1029</td>\n",
       "    </tr>\n",
       "    <tr>\n",
       "      <th>4</th>\n",
       "      <td>1900</td>\n",
       "      <td>247</td>\n",
       "      <td>-22</td>\n",
       "      <td>-1134</td>\n",
       "      <td>-142</td>\n",
       "      <td>-921</td>\n",
       "    </tr>\n",
       "  </tbody>\n",
       "</table>\n",
       "</div>"
      ],
      "text/plain": [
       "     Ax   Ay  Az    Gx   Gy    Gz\n",
       "0     0    0   0     0    0     0\n",
       "1  1923  313  12  -906  321  -994\n",
       "2  1929  297 -20  -833  260 -1005\n",
       "3  1907  262 -26  -850   33 -1029\n",
       "4  1900  247 -22 -1134 -142  -921"
      ]
     },
     "execution_count": 3,
     "metadata": {},
     "output_type": "execute_result"
    }
   ],
   "source": [
    "folder_path = \"../../data/39_Training_Dataset/train_data/\"\n",
    "# folder_path = \"../data/39_Test_Dataset/test_data/\"\n",
    "file_name = \"1.txt\"\n",
    "data_path = folder_path + file_name\n",
    "column_names = ['Ax', 'Ay', 'Az', 'Gx', 'Gy', 'Gz']\n",
    "time_data = pd.read_csv(data_path, sep=' ', names=column_names)\n",
    "time_data.head()"
   ]
  },
  {
   "cell_type": "code",
   "execution_count": 5,
   "metadata": {},
   "outputs": [
    {
     "data": {
      "text/plain": [
       "(1651, 6)"
      ]
     },
     "execution_count": 5,
     "metadata": {},
     "output_type": "execute_result"
    }
   ],
   "source": [
    "time_data.shape"
   ]
  },
  {
   "cell_type": "code",
   "execution_count": 6,
   "metadata": {},
   "outputs": [
    {
     "data": {
      "text/plain": [
       "1651"
      ]
     },
     "execution_count": 6,
     "metadata": {},
     "output_type": "execute_result"
    }
   ],
   "source": [
    "len(time_data)"
   ]
  },
  {
   "cell_type": "code",
   "execution_count": 9,
   "metadata": {},
   "outputs": [
    {
     "name": "stdout",
     "output_type": "stream",
     "text": [
      "\n",
      "Scaled Data (0 to 1):\n",
      "         Ax        Ay        Az        Gx        Gy        Gz\n",
      "0  0.113036  0.779376  0.397502  0.500008  0.459701  0.500008\n",
      "1  0.333716  0.815399  0.398384  0.486183  0.464994  0.484840\n",
      "2  0.334404  0.813557  0.396032  0.487297  0.463988  0.484672\n",
      "3  0.331880  0.809529  0.395591  0.487037  0.460245  0.484306\n",
      "4  0.331076  0.807803  0.395885  0.482704  0.457359  0.485954\n",
      "\n",
      "Maximum and Minimum values for each column:\n",
      "Ax: Max = 1.0000, Min = 0.0000\n",
      "Ay: Max = 1.0000, Min = 0.0000\n",
      "Az: Max = 1.0000, Min = 0.0000\n",
      "Gx: Max = 1.0000, Min = 0.0000\n",
      "Gy: Max = 1.0000, Min = 0.0000\n",
      "Gz: Max = 1.0000, Min = 0.0000\n"
     ]
    }
   ],
   "source": [
    "scaler = MinMaxScaler()\n",
    "\n",
    "# Fit the scaler to the data and transform it\n",
    "scaled_data = scaler.fit_transform(time_data)\n",
    "\n",
    "# Create a new DataFrame with the scaled data\n",
    "scaled_df = pd.DataFrame(scaled_data, columns=column_names)\n",
    "\n",
    "print(\"\\nScaled Data (0 to 1):\")\n",
    "print(scaled_df.head())\n",
    "\n",
    "print(\"\\nMaximum and Minimum values for each column:\")\n",
    "for col in scaled_df.columns:\n",
    "    max_val = scaled_df[col].max()\n",
    "    min_val = scaled_df[col].min()\n",
    "    print(f\"{col}: Max = {max_val:.4f}, Min = {min_val:.4f}\")"
   ]
  },
  {
   "cell_type": "markdown",
   "metadata": {},
   "source": [
    "## Get Maxium Sequence Length for Padding"
   ]
  },
  {
   "cell_type": "code",
   "execution_count": 20,
   "metadata": {},
   "outputs": [
    {
     "name": "stdout",
     "output_type": "stream",
     "text": [
      "Maximum sequence length found (train): 4696\n",
      "File with the maximum sequence length: 384.txt\n"
     ]
    },
    {
     "data": {
      "image/png": "[encoded data removed]",
      "text/plain": [
       "<Figure size 1000x600 with 1 Axes>"
      ]
     },
     "metadata": {},
     "output_type": "display_data"
    }
   ],
   "source": [
    "# Define the directory containing your text files\n",
    "folder_path = \"../../data/39_Training_Dataset/train_data/\" # Adjust if necessary\n",
    "file_pattern = os.path.join(folder_path, \"*.txt\")\n",
    "file_paths = glob.glob(file_pattern)\n",
    "\n",
    "if not file_paths:\n",
    "    print(f\"No .txt files found in the directory: {folder_path}\")\n",
    "else:\n",
    "    max_sequence_length = 0\n",
    "    file_with_max_length = None\n",
    "    column_names = ['Ax', 'Ay', 'Az', 'Gx', 'Gy', 'Gz'] # As per your image\n",
    "    all_sequence_lengths = [] # List to store all sequence lengths for plotting\n",
    "\n",
    "    for file_path in file_paths:\n",
    "        # Removed try-except block as requested\n",
    "        time_data = pd.read_csv(file_path, sep=' ', names=column_names) # Assuming space separated\n",
    "        current_length = len(time_data)\n",
    "        all_sequence_lengths.append(current_length) # Store current length\n",
    "\n",
    "        # Update maximum length if current file is longer\n",
    "        if current_length > max_sequence_length:\n",
    "            max_sequence_length = current_length\n",
    "            file_with_max_length = os.path.basename(file_path)\n",
    "\n",
    "    if file_with_max_length:\n",
    "        print(f\"Maximum sequence length found (train): {max_sequence_length}\")\n",
    "        print(f\"File with the maximum sequence length: {file_with_max_length}\")\n",
    "\n",
    "        # Plotting the distribution of sequence lengths\n",
    "        if all_sequence_lengths:\n",
    "            plt.figure(figsize=(10, 6))\n",
    "            plt.hist(all_sequence_lengths, bins='auto', color='skyblue', edgecolor='black') # 'auto' tries to find optimal number of bins\n",
    "            plt.title('Distribution of Sequence Lengths (Train Data)')\n",
    "            plt.xlabel('Sequence Length')\n",
    "            plt.ylabel('Number of Files')\n",
    "            plt.grid(axis='y', alpha=0.75)\n",
    "            plt.show()\n",
    "        else:\n",
    "            print(\"No sequence lengths recorded to plot.\")\n",
    "\n",
    "    else:\n",
    "        print(\"\\nCould not determine maximum sequence length (perhaps all files were empty).\")"
   ]
  },
  {
   "cell_type": "markdown",
   "metadata": {},
   "source": [
    "## Removed 3030.txt as outlier"
   ]
  },
  {
   "cell_type": "code",
   "execution_count": 23,
   "metadata": {},
   "outputs": [
    {
     "name": "stdout",
     "output_type": "stream",
     "text": [
      "Maximum sequence length found (train): 4588\n",
      "File with the maximum sequence length: 2851.txt\n"
     ]
    },
    {
     "data": {
      "image/png": "[encoded data removed]",
      "text/plain": [
       "<Figure size 1000x600 with 1 Axes>"
      ]
     },
     "metadata": {},
     "output_type": "display_data"
    }
   ],
   "source": [
    "# Define the directory containing your text files\n",
    "folder_path = \"../../data/39_Test_Dataset/test_data/\"\n",
    "file_pattern = os.path.join(folder_path, \"*.txt\")\n",
    "file_paths = glob.glob(file_pattern)\n",
    "\n",
    "if not file_paths:\n",
    "    print(f\"No .txt files found in the directory: {folder_path}\")\n",
    "else:\n",
    "    max_sequence_length = 0\n",
    "    file_with_max_length = None\n",
    "    column_names = ['Ax', 'Ay', 'Az', 'Gx', 'Gy', 'Gz'] # As per your image\n",
    "    all_sequence_lengths = [] # List to store all sequence lengths for plotting\n",
    "\n",
    "    for file_path in file_paths:\n",
    "        # Removed try-except block as requested\n",
    "        time_data = pd.read_csv(file_path, sep=' ', names=column_names) # Assuming space separated\n",
    "        current_length = len(time_data)\n",
    "        all_sequence_lengths.append(current_length) # Store current length\n",
    "\n",
    "        # Update maximum length if current file is longer\n",
    "        if current_length > max_sequence_length:\n",
    "            max_sequence_length = current_length\n",
    "            file_with_max_length = os.path.basename(file_path)\n",
    "\n",
    "    if file_with_max_length:\n",
    "        print(f\"Maximum sequence length found (train): {max_sequence_length}\")\n",
    "        print(f\"File with the maximum sequence length: {file_with_max_length}\")\n",
    "\n",
    "        # Plotting the distribution of sequence lengths\n",
    "        if all_sequence_lengths:\n",
    "            plt.figure(figsize=(10, 6))\n",
    "            plt.hist(all_sequence_lengths, bins='auto', color='skyblue', edgecolor='black') # 'auto' tries to find optimal number of bins\n",
    "            plt.title('Distribution of Sequence Lengths (Test Data)')\n",
    "            plt.xlabel('Sequence Length')\n",
    "            plt.ylabel('Number of Files')\n",
    "            plt.grid(axis='y', alpha=0.75)\n",
    "            plt.show()\n",
    "        else:\n",
    "            print(\"No sequence lengths recorded to plot.\")\n",
    "\n",
    "    else:\n",
    "        print(\"\\nCould not determine maximum sequence length (perhaps all files were empty).\")"
   ]
  }
 ],
 "metadata": {
  "kernelspec": {
   "display_name": "semeval",
   "language": "python",
   "name": "python3"
  },
  "language_info": {
   "codemirror_mode": {
    "name": "ipython",
    "version": 3
   },
   "file_extension": ".py",
   "mimetype": "text/x-python",
   "name": "python",
   "nbconvert_exporter": "python",
   "pygments_lexer": "ipython3",
   "version": "3.10.14"
  }
 },
 "nbformat": 4,
 "nbformat_minor": 2
}
